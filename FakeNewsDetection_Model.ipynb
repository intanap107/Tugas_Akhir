{
  "cells": [
    {
      "cell_type": "code",
      "execution_count": null,
      "metadata": {
        "colab": {
          "base_uri": "https://localhost:8080/"
        },
        "id": "wa89AaCF23wA",
        "outputId": "32f70ca8-ebcf-4166-a2d2-1e13ebf09f3e"
      },
      "outputs": [
        {
          "name": "stdout",
          "output_type": "stream",
          "text": [
            "Mounted at /content/gdrive\n"
          ]
        }
      ],
      "source": [
        "from google.colab  import drive\n",
        "drive.mount('/content/gdrive')"
      ]
    },
    {
      "cell_type": "code",
      "execution_count": null,
      "metadata": {
        "colab": {
          "base_uri": "https://localhost:8080/"
        },
        "id": "2LExr9Kd76y-",
        "outputId": "fe381d82-40aa-482d-f037-2bb3494a2299"
      },
      "outputs": [
        {
          "name": "stdout",
          "output_type": "stream",
          "text": [
            "Looking in indexes: https://pypi.org/simple, https://us-python.pkg.dev/colab-wheels/public/simple/\n",
            "Collecting sastrawi\n",
            "  Downloading Sastrawi-1.0.1-py2.py3-none-any.whl (209 kB)\n",
            "\u001b[K     |████████████████████████████████| 209 kB 6.6 MB/s \n",
            "\u001b[?25hInstalling collected packages: sastrawi\n",
            "Successfully installed sastrawi-1.0.1\n"
          ]
        }
      ],
      "source": [
        "!pip install sastrawi"
      ]
    },
    {
      "cell_type": "code",
      "execution_count": null,
      "metadata": {
        "id": "axVa-POf8Aac"
      },
      "outputs": [],
      "source": [
        "import numpy as np\n",
        "import pandas as pd\n",
        "import matplotlib.pyplot as plt"
      ]
    },
    {
      "cell_type": "markdown",
      "metadata": {
        "id": "-zJGr10P14EF"
      },
      "source": [
        "**downoad dataset** [disini](https://drive.google.com/file/d/1zqYzM11nEVU2VK81wu3uw5D5xye-OVnL/view?usp=share_link)"
      ]
    },
    {
      "cell_type": "code",
      "execution_count": null,
      "metadata": {
        "colab": {
          "base_uri": "https://localhost:8080/",
          "height": 354
        },
        "id": "rCr-YzpT8idd",
        "outputId": "4a9103e2-5c33-4b8a-c6d8-2332be87dae5"
      },
      "outputs": [
        {
          "data": {
            "text/html": [
              "\n",
              "  <div id=\"df-ccaeb107-6fd8-4e7f-a2ad-d0aa8ac52e13\">\n",
              "    <div class=\"colab-df-container\">\n",
              "      <div>\n",
              "<style scoped>\n",
              "    .dataframe tbody tr th:only-of-type {\n",
              "        vertical-align: middle;\n",
              "    }\n",
              "\n",
              "    .dataframe tbody tr th {\n",
              "        vertical-align: top;\n",
              "    }\n",
              "\n",
              "    .dataframe thead th {\n",
              "        text-align: right;\n",
              "    }\n",
              "</style>\n",
              "<table border=\"1\" class=\"dataframe\">\n",
              "  <thead>\n",
              "    <tr style=\"text-align: right;\">\n",
              "      <th></th>\n",
              "      <th>judul</th>\n",
              "      <th>teks</th>\n",
              "      <th>link-href</th>\n",
              "      <th>label</th>\n",
              "    </tr>\n",
              "  </thead>\n",
              "  <tbody>\n",
              "    <tr>\n",
              "      <th>0</th>\n",
              "      <td>Penyelenggaraan Pemerintahan yang Tidak Transp...</td>\n",
              "      <td>Penyelenggaraan pemerintahan yang tidak transp...</td>\n",
              "      <td>https://www.detik.com/edu/detikpedia/d-6373276...</td>\n",
              "      <td>1</td>\n",
              "    </tr>\n",
              "    <tr>\n",
              "      <th>1</th>\n",
              "      <td>Sosialisasi Politik: Definisi, Cara Kerja, dan...</td>\n",
              "      <td>Sosialisasi politik tentunya sangat penting da...</td>\n",
              "      <td>https://www.detik.com/edu/detikpedia/d-6338406...</td>\n",
              "      <td>1</td>\n",
              "    </tr>\n",
              "    <tr>\n",
              "      <th>2</th>\n",
              "      <td>Kekuasaan Kongsi Dagang VOC di Indonesia, Puny...</td>\n",
              "      <td>Kekuasaan Kongsi Dagang VOC di Indonesia Punya...</td>\n",
              "      <td>https://www.detik.com/edu/detikpedia/d-6329307...</td>\n",
              "      <td>1</td>\n",
              "    </tr>\n",
              "    <tr>\n",
              "      <th>3</th>\n",
              "      <td>Mahfud Posting Foto Hitam Putih: Pemerintah Se...</td>\n",
              "      <td>(Menko Polhukam) Mahfud Md menyampaikan sikap ...</td>\n",
              "      <td>https://news.detik.com/berita/d-6323915/mahfud...</td>\n",
              "      <td>1</td>\n",
              "    </tr>\n",
              "    <tr>\n",
              "      <th>4</th>\n",
              "      <td>Luhut Minta Pemerintahan-BUMN Tak Pakai Produk...</td>\n",
              "      <td>Menko Marves Luhut Binsar Pandjaitan meminta k...</td>\n",
              "      <td>https://finance.detik.com/detiktv/d-6319824/lu...</td>\n",
              "      <td>1</td>\n",
              "    </tr>\n",
              "  </tbody>\n",
              "</table>\n",
              "</div>\n",
              "      <button class=\"colab-df-convert\" onclick=\"convertToInteractive('df-ccaeb107-6fd8-4e7f-a2ad-d0aa8ac52e13')\"\n",
              "              title=\"Convert this dataframe to an interactive table.\"\n",
              "              style=\"display:none;\">\n",
              "        \n",
              "  <svg xmlns=\"http://www.w3.org/2000/svg\" height=\"24px\"viewBox=\"0 0 24 24\"\n",
              "       width=\"24px\">\n",
              "    <path d=\"M0 0h24v24H0V0z\" fill=\"none\"/>\n",
              "    <path d=\"M18.56 5.44l.94 2.06.94-2.06 2.06-.94-2.06-.94-.94-2.06-.94 2.06-2.06.94zm-11 1L8.5 8.5l.94-2.06 2.06-.94-2.06-.94L8.5 2.5l-.94 2.06-2.06.94zm10 10l.94 2.06.94-2.06 2.06-.94-2.06-.94-.94-2.06-.94 2.06-2.06.94z\"/><path d=\"M17.41 7.96l-1.37-1.37c-.4-.4-.92-.59-1.43-.59-.52 0-1.04.2-1.43.59L10.3 9.45l-7.72 7.72c-.78.78-.78 2.05 0 2.83L4 21.41c.39.39.9.59 1.41.59.51 0 1.02-.2 1.41-.59l7.78-7.78 2.81-2.81c.8-.78.8-2.07 0-2.86zM5.41 20L4 18.59l7.72-7.72 1.47 1.35L5.41 20z\"/>\n",
              "  </svg>\n",
              "      </button>\n",
              "      \n",
              "  <style>\n",
              "    .colab-df-container {\n",
              "      display:flex;\n",
              "      flex-wrap:wrap;\n",
              "      gap: 12px;\n",
              "    }\n",
              "\n",
              "    .colab-df-convert {\n",
              "      background-color: #E8F0FE;\n",
              "      border: none;\n",
              "      border-radius: 50%;\n",
              "      cursor: pointer;\n",
              "      display: none;\n",
              "      fill: #1967D2;\n",
              "      height: 32px;\n",
              "      padding: 0 0 0 0;\n",
              "      width: 32px;\n",
              "    }\n",
              "\n",
              "    .colab-df-convert:hover {\n",
              "      background-color: #E2EBFA;\n",
              "      box-shadow: 0px 1px 2px rgba(60, 64, 67, 0.3), 0px 1px 3px 1px rgba(60, 64, 67, 0.15);\n",
              "      fill: #174EA6;\n",
              "    }\n",
              "\n",
              "    [theme=dark] .colab-df-convert {\n",
              "      background-color: #3B4455;\n",
              "      fill: #D2E3FC;\n",
              "    }\n",
              "\n",
              "    [theme=dark] .colab-df-convert:hover {\n",
              "      background-color: #434B5C;\n",
              "      box-shadow: 0px 1px 3px 1px rgba(0, 0, 0, 0.15);\n",
              "      filter: drop-shadow(0px 1px 2px rgba(0, 0, 0, 0.3));\n",
              "      fill: #FFFFFF;\n",
              "    }\n",
              "  </style>\n",
              "\n",
              "      <script>\n",
              "        const buttonEl =\n",
              "          document.querySelector('#df-ccaeb107-6fd8-4e7f-a2ad-d0aa8ac52e13 button.colab-df-convert');\n",
              "        buttonEl.style.display =\n",
              "          google.colab.kernel.accessAllowed ? 'block' : 'none';\n",
              "\n",
              "        async function convertToInteractive(key) {\n",
              "          const element = document.querySelector('#df-ccaeb107-6fd8-4e7f-a2ad-d0aa8ac52e13');\n",
              "          const dataTable =\n",
              "            await google.colab.kernel.invokeFunction('convertToInteractive',\n",
              "                                                     [key], {});\n",
              "          if (!dataTable) return;\n",
              "\n",
              "          const docLinkHtml = 'Like what you see? Visit the ' +\n",
              "            '<a target=\"_blank\" href=https://colab.research.google.com/notebooks/data_table.ipynb>data table notebook</a>'\n",
              "            + ' to learn more about interactive tables.';\n",
              "          element.innerHTML = '';\n",
              "          dataTable['output_type'] = 'display_data';\n",
              "          await google.colab.output.renderOutput(dataTable, element);\n",
              "          const docLink = document.createElement('div');\n",
              "          docLink.innerHTML = docLinkHtml;\n",
              "          element.appendChild(docLink);\n",
              "        }\n",
              "      </script>\n",
              "    </div>\n",
              "  </div>\n",
              "  "
            ],
            "text/plain": [
              "                                               judul  \\\n",
              "0  Penyelenggaraan Pemerintahan yang Tidak Transp...   \n",
              "1  Sosialisasi Politik: Definisi, Cara Kerja, dan...   \n",
              "2  Kekuasaan Kongsi Dagang VOC di Indonesia, Puny...   \n",
              "3  Mahfud Posting Foto Hitam Putih: Pemerintah Se...   \n",
              "4  Luhut Minta Pemerintahan-BUMN Tak Pakai Produk...   \n",
              "\n",
              "                                                teks  \\\n",
              "0  Penyelenggaraan pemerintahan yang tidak transp...   \n",
              "1  Sosialisasi politik tentunya sangat penting da...   \n",
              "2  Kekuasaan Kongsi Dagang VOC di Indonesia Punya...   \n",
              "3  (Menko Polhukam) Mahfud Md menyampaikan sikap ...   \n",
              "4  Menko Marves Luhut Binsar Pandjaitan meminta k...   \n",
              "\n",
              "                                           link-href  label  \n",
              "0  https://www.detik.com/edu/detikpedia/d-6373276...      1  \n",
              "1  https://www.detik.com/edu/detikpedia/d-6338406...      1  \n",
              "2  https://www.detik.com/edu/detikpedia/d-6329307...      1  \n",
              "3  https://news.detik.com/berita/d-6323915/mahfud...      1  \n",
              "4  https://finance.detik.com/detiktv/d-6319824/lu...      1  "
            ]
          },
          "execution_count": 4,
          "metadata": {},
          "output_type": "execute_result"
        }
      ],
      "source": [
        "data = pd.read_csv('/content/gdrive/MyDrive/Project Akhir MSIB/data/data_news.csv')\n",
        "data.head()"
      ]
    },
    {
      "cell_type": "code",
      "execution_count": null,
      "metadata": {
        "colab": {
          "base_uri": "https://localhost:8080/"
        },
        "id": "LdWOOTe281Sr",
        "outputId": "d772c2f4-f727-4547-a34d-f58597d7fd0e"
      },
      "outputs": [
        {
          "name": "stderr",
          "output_type": "stream",
          "text": [
            "[nltk_data] Downloading package stopwords to /root/nltk_data...\n",
            "[nltk_data]   Unzipping corpora/stopwords.zip.\n"
          ]
        }
      ],
      "source": [
        "from nltk import corpus\n",
        "import re\n",
        "import nltk\n",
        "from nltk.corpus import stopwords\n",
        "from Sastrawi.Stemmer.StemmerFactory import StemmerFactory\n",
        "\n",
        "nltk.download('stopwords')\n",
        "factory = StemmerFactory()\n",
        "stemmer = factory.create_stemmer()\n",
        "\n",
        "corpus = []\n",
        "\n",
        "for i in range(0, len(data)):\n",
        "    text = re.sub('[^a-zA-Z]', ' ', str(data['teks'][i]))\n",
        "    text = text.lower()\n",
        "    text = text.split()\n",
        "    text = [stemmer.stem(word) for word in text if not word in stopwords.words('indonesian')]\n",
        "    text = ' '.join(text)\n",
        "    corpus.append(text)"
      ]
    },
    {
      "cell_type": "code",
      "execution_count": null,
      "metadata": {
        "id": "5D7KO6ltAGjO"
      },
      "outputs": [],
      "source": [
        "# TFidf Vectorizer\n",
        "from sklearn.feature_extraction.text import TfidfVectorizer\n",
        "tfidf_v = TfidfVectorizer(max_features=5000, ngram_range=(1,3))\n",
        "\n",
        "X = tfidf_v.fit_transform(corpus).toarray()\n",
        "y = data['label']"
      ]
    },
    {
      "cell_type": "code",
      "execution_count": null,
      "metadata": {
        "id": "YXKR4nA5ASgT"
      },
      "outputs": [],
      "source": [
        "# Divide the dataset into Train and Test\n",
        "from sklearn.model_selection import train_test_split\n",
        "X_train, X_test, y_train, y_test = train_test_split(X, y, test_size=0.2, random_state=0)"
      ]
    },
    {
      "cell_type": "code",
      "execution_count": null,
      "metadata": {
        "colab": {
          "base_uri": "https://localhost:8080/"
        },
        "id": "Hd4YYC4IAZNW",
        "outputId": "cffce397-f645-43ab-e91e-3f38ca9c6448"
      },
      "outputs": [
        {
          "data": {
            "text/plain": [
              "GaussianNB()"
            ]
          },
          "execution_count": 11,
          "metadata": {},
          "output_type": "execute_result"
        }
      ],
      "source": [
        "# Metode Naive Bayes\n",
        "from sklearn.naive_bayes import GaussianNB\n",
        "classifierNB = GaussianNB()\n",
        "classifierNB.fit(X_train, y_train)"
      ]
    },
    {
      "cell_type": "code",
      "execution_count": null,
      "metadata": {
        "colab": {
          "base_uri": "https://localhost:8080/"
        },
        "id": "jo6GjFlFAlAq",
        "outputId": "af30f0e1-415d-48ab-bdde-52d76f323ab9"
      },
      "outputs": [
        {
          "name": "stdout",
          "output_type": "stream",
          "text": [
            "Confusion Matrix [[173  23]\n",
            " [ 10 195]]\n"
          ]
        }
      ],
      "source": [
        "from sklearn.metrics import confusion_matrix\n",
        "y_pred_NB = classifierNB.predict(X_test) \n",
        "cm_NB = confusion_matrix(y_test, y_pred_NB)\n",
        "\n",
        "print(\"Confusion Matrix\",cm_NB)"
      ]
    },
    {
      "cell_type": "code",
      "execution_count": null,
      "metadata": {
        "colab": {
          "base_uri": "https://localhost:8080/"
        },
        "id": "wvjK6QdXLUUS",
        "outputId": "8e0ddc32-203e-4253-ef6d-ee34d187ed1a"
      },
      "outputs": [
        {
          "name": "stdout",
          "output_type": "stream",
          "text": [
            "Akurasi 91.77057356608479\n"
          ]
        }
      ],
      "source": [
        "akurasi_NB = ((cm_NB[0][0]+cm_NB[1][1])/(cm_NB[0][0]+cm_NB[1][1]+cm_NB[0][1]+cm_NB[1][0]))*100\n",
        "print(\"Akurasi\",akurasi_NB)"
      ]
    },
    {
      "cell_type": "code",
      "execution_count": null,
      "metadata": {
        "id": "2SalQf4cOPLi"
      },
      "outputs": [],
      "source": [
        "import pickle\n",
        "pickle.dump(classifierNB, open('model.pkl', 'wb'))\n",
        "pickle.dump(tfidf_v, open('tfidfvect.pkl', 'wb'))"
      ]
    },
    {
      "cell_type": "code",
      "execution_count": null,
      "metadata": {
        "colab": {
          "base_uri": "https://localhost:8080/"
        },
        "id": "N17km9JoOTuW",
        "outputId": "0b0964fd-4a0d-4d5c-ea35-097e7ee0c8d8"
      },
      "outputs": [
        {
          "data": {
            "text/plain": [
              "array([1])"
            ]
          },
          "execution_count": 14,
          "metadata": {},
          "output_type": "execute_result"
        }
      ],
      "source": [
        "# Load model and vectorizer\n",
        "joblib_model = pickle.load(open('model.pkl', 'rb'))\n",
        "joblib_vect = pickle.load(open('tfidfvect.pkl', 'rb'))\n",
        "val_pkl = joblib_vect.transform([text]).toarray()\n",
        "joblib_model.predict(val_pkl)"
      ]
    }
  ],
  "metadata": {
    "colab": {
      "provenance": []
    },
    "kernelspec": {
      "display_name": "base",
      "language": "python",
      "name": "python3"
    },
    "language_info": {
      "name": "python",
      "version": "3.9.12"
    },
    "vscode": {
      "interpreter": {
        "hash": "a077222d77dfe082b8f1dd562ad70e458ac2ab76993a0b248ab0476e32e9e8dd"
      }
    }
  },
  "nbformat": 4,
  "nbformat_minor": 0
}
